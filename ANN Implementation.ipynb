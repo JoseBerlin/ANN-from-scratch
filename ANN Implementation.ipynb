{
  "nbformat": 4,
  "nbformat_minor": 0,
  "metadata": {
    "colab": {
      "provenance": [],
      "collapsed_sections": [
        "4HjpeehLFxCH"
      ]
    },
    "kernelspec": {
      "name": "python3",
      "display_name": "Python 3"
    },
    "language_info": {
      "name": "python"
    }
  },
  "cells": [
    {
      "cell_type": "markdown",
      "source": [
        "# Imports\n",
        "Importing the required packages for clacluations and visual representations\n"
      ],
      "metadata": {
        "id": "MvBVHaE3vmW5"
      }
    },
    {
      "cell_type": "code",
      "execution_count": 215,
      "metadata": {
        "id": "auwTM9KftXp1"
      },
      "outputs": [],
      "source": [
        "import numpy as np\n",
        "import pandas as pd\n",
        "from sklearn.model_selection import train_test_split\n",
        "from sklearn.metrics import accuracy_score\n",
        "\n",
        "import matplotlib.pyplot as plt\n",
        "\n",
        "%matplotlib inline"
      ]
    },
    {
      "cell_type": "markdown",
      "source": [
        "### Data Exploring\n",
        "\n",
        "Exploring the dataset provided "
      ],
      "metadata": {
        "id": "4HjpeehLFxCH"
      }
    },
    {
      "cell_type": "code",
      "source": [
        "df= pd.read_csv(\"https://archive.ics.uci.edu/ml/machine-learning-databases/breast-cancer-wisconsin/wdbc.data\", header=None, names = [\"ID\",\"Diagnosis\",\n",
        "            \"M-Radius\",\"SE-Radius\",\"WL-Radius\",\n",
        "            \"M-Texture\",\"SE-Texture\",\"WL-Texture\",\n",
        "            \"M-Perimeter\",\"SE-Perimeter\",\"WL-Perimeter\",\n",
        "            \"M-Area\",\"SE-Area\",\"WL-Area\",\n",
        "            \"M-Smoothness\",\"SE-Smoothness\",\"WL-Smoothness\",\n",
        "            \"M-Compactness\",\"SE-Compactness\",\"WL-Compactness\",\n",
        "            \"M-Concavity\",\"SE-Concavity\",\"WL-Concavity\",\n",
        "            \"M-Concave_P\",\"SE-Concave_P\",\"WL-Concave_P\",\n",
        "            \"M-Symmetry\",\"SE-Symmetry\",\"WL-Symmetry\",\n",
        "            \"M-Fractal_D\",\"SE-Fractal_D\",\"WL-Fractal_D\"\n",
        "            ])"
      ],
      "metadata": {
        "id": "6tSR2XO_-DM9"
      },
      "execution_count": 216,
      "outputs": []
    },
    {
      "cell_type": "code",
      "source": [
        "df.head()"
      ],
      "metadata": {
        "id": "QvxAvCuRBffr",
        "colab": {
          "base_uri": "https://localhost:8080/",
          "height": 317
        },
        "outputId": "62e79334-c9b0-4b82-f5e6-54e90a0dda61"
      },
      "execution_count": 217,
      "outputs": [
        {
          "output_type": "execute_result",
          "data": {
            "text/plain": [
              "         ID Diagnosis  M-Radius  SE-Radius  WL-Radius  M-Texture  SE-Texture  \\\n",
              "0    842302         M     17.99      10.38     122.80     1001.0     0.11840   \n",
              "1    842517         M     20.57      17.77     132.90     1326.0     0.08474   \n",
              "2  84300903         M     19.69      21.25     130.00     1203.0     0.10960   \n",
              "3  84348301         M     11.42      20.38      77.58      386.1     0.14250   \n",
              "4  84358402         M     20.29      14.34     135.10     1297.0     0.10030   \n",
              "\n",
              "   WL-Texture  M-Perimeter  SE-Perimeter  ...  WL-Concavity  M-Concave_P  \\\n",
              "0     0.27760       0.3001       0.14710  ...         25.38        17.33   \n",
              "1     0.07864       0.0869       0.07017  ...         24.99        23.41   \n",
              "2     0.15990       0.1974       0.12790  ...         23.57        25.53   \n",
              "3     0.28390       0.2414       0.10520  ...         14.91        26.50   \n",
              "4     0.13280       0.1980       0.10430  ...         22.54        16.67   \n",
              "\n",
              "   SE-Concave_P  WL-Concave_P  M-Symmetry  SE-Symmetry  WL-Symmetry  \\\n",
              "0        184.60        2019.0      0.1622       0.6656       0.7119   \n",
              "1        158.80        1956.0      0.1238       0.1866       0.2416   \n",
              "2        152.50        1709.0      0.1444       0.4245       0.4504   \n",
              "3         98.87         567.7      0.2098       0.8663       0.6869   \n",
              "4        152.20        1575.0      0.1374       0.2050       0.4000   \n",
              "\n",
              "   M-Fractal_D  SE-Fractal_D  WL-Fractal_D  \n",
              "0       0.2654        0.4601       0.11890  \n",
              "1       0.1860        0.2750       0.08902  \n",
              "2       0.2430        0.3613       0.08758  \n",
              "3       0.2575        0.6638       0.17300  \n",
              "4       0.1625        0.2364       0.07678  \n",
              "\n",
              "[5 rows x 32 columns]"
            ],
            "text/html": [
              "\n",
              "  <div id=\"df-ec733262-8e4d-49cd-b446-7200eb555977\">\n",
              "    <div class=\"colab-df-container\">\n",
              "      <div>\n",
              "<style scoped>\n",
              "    .dataframe tbody tr th:only-of-type {\n",
              "        vertical-align: middle;\n",
              "    }\n",
              "\n",
              "    .dataframe tbody tr th {\n",
              "        vertical-align: top;\n",
              "    }\n",
              "\n",
              "    .dataframe thead th {\n",
              "        text-align: right;\n",
              "    }\n",
              "</style>\n",
              "<table border=\"1\" class=\"dataframe\">\n",
              "  <thead>\n",
              "    <tr style=\"text-align: right;\">\n",
              "      <th></th>\n",
              "      <th>ID</th>\n",
              "      <th>Diagnosis</th>\n",
              "      <th>M-Radius</th>\n",
              "      <th>SE-Radius</th>\n",
              "      <th>WL-Radius</th>\n",
              "      <th>M-Texture</th>\n",
              "      <th>SE-Texture</th>\n",
              "      <th>WL-Texture</th>\n",
              "      <th>M-Perimeter</th>\n",
              "      <th>SE-Perimeter</th>\n",
              "      <th>...</th>\n",
              "      <th>WL-Concavity</th>\n",
              "      <th>M-Concave_P</th>\n",
              "      <th>SE-Concave_P</th>\n",
              "      <th>WL-Concave_P</th>\n",
              "      <th>M-Symmetry</th>\n",
              "      <th>SE-Symmetry</th>\n",
              "      <th>WL-Symmetry</th>\n",
              "      <th>M-Fractal_D</th>\n",
              "      <th>SE-Fractal_D</th>\n",
              "      <th>WL-Fractal_D</th>\n",
              "    </tr>\n",
              "  </thead>\n",
              "  <tbody>\n",
              "    <tr>\n",
              "      <th>0</th>\n",
              "      <td>842302</td>\n",
              "      <td>M</td>\n",
              "      <td>17.99</td>\n",
              "      <td>10.38</td>\n",
              "      <td>122.80</td>\n",
              "      <td>1001.0</td>\n",
              "      <td>0.11840</td>\n",
              "      <td>0.27760</td>\n",
              "      <td>0.3001</td>\n",
              "      <td>0.14710</td>\n",
              "      <td>...</td>\n",
              "      <td>25.38</td>\n",
              "      <td>17.33</td>\n",
              "      <td>184.60</td>\n",
              "      <td>2019.0</td>\n",
              "      <td>0.1622</td>\n",
              "      <td>0.6656</td>\n",
              "      <td>0.7119</td>\n",
              "      <td>0.2654</td>\n",
              "      <td>0.4601</td>\n",
              "      <td>0.11890</td>\n",
              "    </tr>\n",
              "    <tr>\n",
              "      <th>1</th>\n",
              "      <td>842517</td>\n",
              "      <td>M</td>\n",
              "      <td>20.57</td>\n",
              "      <td>17.77</td>\n",
              "      <td>132.90</td>\n",
              "      <td>1326.0</td>\n",
              "      <td>0.08474</td>\n",
              "      <td>0.07864</td>\n",
              "      <td>0.0869</td>\n",
              "      <td>0.07017</td>\n",
              "      <td>...</td>\n",
              "      <td>24.99</td>\n",
              "      <td>23.41</td>\n",
              "      <td>158.80</td>\n",
              "      <td>1956.0</td>\n",
              "      <td>0.1238</td>\n",
              "      <td>0.1866</td>\n",
              "      <td>0.2416</td>\n",
              "      <td>0.1860</td>\n",
              "      <td>0.2750</td>\n",
              "      <td>0.08902</td>\n",
              "    </tr>\n",
              "    <tr>\n",
              "      <th>2</th>\n",
              "      <td>84300903</td>\n",
              "      <td>M</td>\n",
              "      <td>19.69</td>\n",
              "      <td>21.25</td>\n",
              "      <td>130.00</td>\n",
              "      <td>1203.0</td>\n",
              "      <td>0.10960</td>\n",
              "      <td>0.15990</td>\n",
              "      <td>0.1974</td>\n",
              "      <td>0.12790</td>\n",
              "      <td>...</td>\n",
              "      <td>23.57</td>\n",
              "      <td>25.53</td>\n",
              "      <td>152.50</td>\n",
              "      <td>1709.0</td>\n",
              "      <td>0.1444</td>\n",
              "      <td>0.4245</td>\n",
              "      <td>0.4504</td>\n",
              "      <td>0.2430</td>\n",
              "      <td>0.3613</td>\n",
              "      <td>0.08758</td>\n",
              "    </tr>\n",
              "    <tr>\n",
              "      <th>3</th>\n",
              "      <td>84348301</td>\n",
              "      <td>M</td>\n",
              "      <td>11.42</td>\n",
              "      <td>20.38</td>\n",
              "      <td>77.58</td>\n",
              "      <td>386.1</td>\n",
              "      <td>0.14250</td>\n",
              "      <td>0.28390</td>\n",
              "      <td>0.2414</td>\n",
              "      <td>0.10520</td>\n",
              "      <td>...</td>\n",
              "      <td>14.91</td>\n",
              "      <td>26.50</td>\n",
              "      <td>98.87</td>\n",
              "      <td>567.7</td>\n",
              "      <td>0.2098</td>\n",
              "      <td>0.8663</td>\n",
              "      <td>0.6869</td>\n",
              "      <td>0.2575</td>\n",
              "      <td>0.6638</td>\n",
              "      <td>0.17300</td>\n",
              "    </tr>\n",
              "    <tr>\n",
              "      <th>4</th>\n",
              "      <td>84358402</td>\n",
              "      <td>M</td>\n",
              "      <td>20.29</td>\n",
              "      <td>14.34</td>\n",
              "      <td>135.10</td>\n",
              "      <td>1297.0</td>\n",
              "      <td>0.10030</td>\n",
              "      <td>0.13280</td>\n",
              "      <td>0.1980</td>\n",
              "      <td>0.10430</td>\n",
              "      <td>...</td>\n",
              "      <td>22.54</td>\n",
              "      <td>16.67</td>\n",
              "      <td>152.20</td>\n",
              "      <td>1575.0</td>\n",
              "      <td>0.1374</td>\n",
              "      <td>0.2050</td>\n",
              "      <td>0.4000</td>\n",
              "      <td>0.1625</td>\n",
              "      <td>0.2364</td>\n",
              "      <td>0.07678</td>\n",
              "    </tr>\n",
              "  </tbody>\n",
              "</table>\n",
              "<p>5 rows × 32 columns</p>\n",
              "</div>\n",
              "      <button class=\"colab-df-convert\" onclick=\"convertToInteractive('df-ec733262-8e4d-49cd-b446-7200eb555977')\"\n",
              "              title=\"Convert this dataframe to an interactive table.\"\n",
              "              style=\"display:none;\">\n",
              "        \n",
              "  <svg xmlns=\"http://www.w3.org/2000/svg\" height=\"24px\"viewBox=\"0 0 24 24\"\n",
              "       width=\"24px\">\n",
              "    <path d=\"M0 0h24v24H0V0z\" fill=\"none\"/>\n",
              "    <path d=\"M18.56 5.44l.94 2.06.94-2.06 2.06-.94-2.06-.94-.94-2.06-.94 2.06-2.06.94zm-11 1L8.5 8.5l.94-2.06 2.06-.94-2.06-.94L8.5 2.5l-.94 2.06-2.06.94zm10 10l.94 2.06.94-2.06 2.06-.94-2.06-.94-.94-2.06-.94 2.06-2.06.94z\"/><path d=\"M17.41 7.96l-1.37-1.37c-.4-.4-.92-.59-1.43-.59-.52 0-1.04.2-1.43.59L10.3 9.45l-7.72 7.72c-.78.78-.78 2.05 0 2.83L4 21.41c.39.39.9.59 1.41.59.51 0 1.02-.2 1.41-.59l7.78-7.78 2.81-2.81c.8-.78.8-2.07 0-2.86zM5.41 20L4 18.59l7.72-7.72 1.47 1.35L5.41 20z\"/>\n",
              "  </svg>\n",
              "      </button>\n",
              "      \n",
              "  <style>\n",
              "    .colab-df-container {\n",
              "      display:flex;\n",
              "      flex-wrap:wrap;\n",
              "      gap: 12px;\n",
              "    }\n",
              "\n",
              "    .colab-df-convert {\n",
              "      background-color: #E8F0FE;\n",
              "      border: none;\n",
              "      border-radius: 50%;\n",
              "      cursor: pointer;\n",
              "      display: none;\n",
              "      fill: #1967D2;\n",
              "      height: 32px;\n",
              "      padding: 0 0 0 0;\n",
              "      width: 32px;\n",
              "    }\n",
              "\n",
              "    .colab-df-convert:hover {\n",
              "      background-color: #E2EBFA;\n",
              "      box-shadow: 0px 1px 2px rgba(60, 64, 67, 0.3), 0px 1px 3px 1px rgba(60, 64, 67, 0.15);\n",
              "      fill: #174EA6;\n",
              "    }\n",
              "\n",
              "    [theme=dark] .colab-df-convert {\n",
              "      background-color: #3B4455;\n",
              "      fill: #D2E3FC;\n",
              "    }\n",
              "\n",
              "    [theme=dark] .colab-df-convert:hover {\n",
              "      background-color: #434B5C;\n",
              "      box-shadow: 0px 1px 3px 1px rgba(0, 0, 0, 0.15);\n",
              "      filter: drop-shadow(0px 1px 2px rgba(0, 0, 0, 0.3));\n",
              "      fill: #FFFFFF;\n",
              "    }\n",
              "  </style>\n",
              "\n",
              "      <script>\n",
              "        const buttonEl =\n",
              "          document.querySelector('#df-ec733262-8e4d-49cd-b446-7200eb555977 button.colab-df-convert');\n",
              "        buttonEl.style.display =\n",
              "          google.colab.kernel.accessAllowed ? 'block' : 'none';\n",
              "\n",
              "        async function convertToInteractive(key) {\n",
              "          const element = document.querySelector('#df-ec733262-8e4d-49cd-b446-7200eb555977');\n",
              "          const dataTable =\n",
              "            await google.colab.kernel.invokeFunction('convertToInteractive',\n",
              "                                                     [key], {});\n",
              "          if (!dataTable) return;\n",
              "\n",
              "          const docLinkHtml = 'Like what you see? Visit the ' +\n",
              "            '<a target=\"_blank\" href=https://colab.research.google.com/notebooks/data_table.ipynb>data table notebook</a>'\n",
              "            + ' to learn more about interactive tables.';\n",
              "          element.innerHTML = '';\n",
              "          dataTable['output_type'] = 'display_data';\n",
              "          await google.colab.output.renderOutput(dataTable, element);\n",
              "          const docLink = document.createElement('div');\n",
              "          docLink.innerHTML = docLinkHtml;\n",
              "          element.appendChild(docLink);\n",
              "        }\n",
              "      </script>\n",
              "    </div>\n",
              "  </div>\n",
              "  "
            ]
          },
          "metadata": {},
          "execution_count": 217
        }
      ]
    },
    {
      "cell_type": "code",
      "source": [
        "df.shape"
      ],
      "metadata": {
        "colab": {
          "base_uri": "https://localhost:8080/",
          "height": 0
        },
        "id": "BVcdhuYC_bW3",
        "outputId": "c8f244ac-8c93-4380-af7d-8a84ac6cc375"
      },
      "execution_count": 218,
      "outputs": [
        {
          "output_type": "execute_result",
          "data": {
            "text/plain": [
              "(569, 32)"
            ]
          },
          "metadata": {},
          "execution_count": 218
        }
      ]
    },
    {
      "cell_type": "code",
      "source": [
        "df.info()"
      ],
      "metadata": {
        "id": "pq6iDRTZ_gau",
        "colab": {
          "base_uri": "https://localhost:8080/",
          "height": 0
        },
        "outputId": "d1943095-84d5-413c-995b-c75ddbf5f501"
      },
      "execution_count": 219,
      "outputs": [
        {
          "output_type": "stream",
          "name": "stdout",
          "text": [
            "<class 'pandas.core.frame.DataFrame'>\n",
            "RangeIndex: 569 entries, 0 to 568\n",
            "Data columns (total 32 columns):\n",
            " #   Column          Non-Null Count  Dtype  \n",
            "---  ------          --------------  -----  \n",
            " 0   ID              569 non-null    int64  \n",
            " 1   Diagnosis       569 non-null    object \n",
            " 2   M-Radius        569 non-null    float64\n",
            " 3   SE-Radius       569 non-null    float64\n",
            " 4   WL-Radius       569 non-null    float64\n",
            " 5   M-Texture       569 non-null    float64\n",
            " 6   SE-Texture      569 non-null    float64\n",
            " 7   WL-Texture      569 non-null    float64\n",
            " 8   M-Perimeter     569 non-null    float64\n",
            " 9   SE-Perimeter    569 non-null    float64\n",
            " 10  WL-Perimeter    569 non-null    float64\n",
            " 11  M-Area          569 non-null    float64\n",
            " 12  SE-Area         569 non-null    float64\n",
            " 13  WL-Area         569 non-null    float64\n",
            " 14  M-Smoothness    569 non-null    float64\n",
            " 15  SE-Smoothness   569 non-null    float64\n",
            " 16  WL-Smoothness   569 non-null    float64\n",
            " 17  M-Compactness   569 non-null    float64\n",
            " 18  SE-Compactness  569 non-null    float64\n",
            " 19  WL-Compactness  569 non-null    float64\n",
            " 20  M-Concavity     569 non-null    float64\n",
            " 21  SE-Concavity    569 non-null    float64\n",
            " 22  WL-Concavity    569 non-null    float64\n",
            " 23  M-Concave_P     569 non-null    float64\n",
            " 24  SE-Concave_P    569 non-null    float64\n",
            " 25  WL-Concave_P    569 non-null    float64\n",
            " 26  M-Symmetry      569 non-null    float64\n",
            " 27  SE-Symmetry     569 non-null    float64\n",
            " 28  WL-Symmetry     569 non-null    float64\n",
            " 29  M-Fractal_D     569 non-null    float64\n",
            " 30  SE-Fractal_D    569 non-null    float64\n",
            " 31  WL-Fractal_D    569 non-null    float64\n",
            "dtypes: float64(30), int64(1), object(1)\n",
            "memory usage: 142.4+ KB\n"
          ]
        }
      ]
    },
    {
      "cell_type": "markdown",
      "source": [
        "### Data Cleaning"
      ],
      "metadata": {
        "id": "1FgL2kFtF5K3"
      }
    },
    {
      "cell_type": "code",
      "source": [
        "df.duplicated().sum()"
      ],
      "metadata": {
        "colab": {
          "base_uri": "https://localhost:8080/",
          "height": 0
        },
        "id": "-YOcc2EeHwME",
        "outputId": "29887649-abf5-4432-f50e-3b4139c30361"
      },
      "execution_count": 220,
      "outputs": [
        {
          "output_type": "execute_result",
          "data": {
            "text/plain": [
              "0"
            ]
          },
          "metadata": {},
          "execution_count": 220
        }
      ]
    },
    {
      "cell_type": "code",
      "source": [
        "df.isnull().sum()"
      ],
      "metadata": {
        "id": "DFF_1TdxBkdD",
        "colab": {
          "base_uri": "https://localhost:8080/",
          "height": 0
        },
        "outputId": "f057fd49-9191-4d6a-b43b-08d311e4f0f7"
      },
      "execution_count": 221,
      "outputs": [
        {
          "output_type": "execute_result",
          "data": {
            "text/plain": [
              "ID                0\n",
              "Diagnosis         0\n",
              "M-Radius          0\n",
              "SE-Radius         0\n",
              "WL-Radius         0\n",
              "M-Texture         0\n",
              "SE-Texture        0\n",
              "WL-Texture        0\n",
              "M-Perimeter       0\n",
              "SE-Perimeter      0\n",
              "WL-Perimeter      0\n",
              "M-Area            0\n",
              "SE-Area           0\n",
              "WL-Area           0\n",
              "M-Smoothness      0\n",
              "SE-Smoothness     0\n",
              "WL-Smoothness     0\n",
              "M-Compactness     0\n",
              "SE-Compactness    0\n",
              "WL-Compactness    0\n",
              "M-Concavity       0\n",
              "SE-Concavity      0\n",
              "WL-Concavity      0\n",
              "M-Concave_P       0\n",
              "SE-Concave_P      0\n",
              "WL-Concave_P      0\n",
              "M-Symmetry        0\n",
              "SE-Symmetry       0\n",
              "WL-Symmetry       0\n",
              "M-Fractal_D       0\n",
              "SE-Fractal_D      0\n",
              "WL-Fractal_D      0\n",
              "dtype: int64"
            ]
          },
          "metadata": {},
          "execution_count": 221
        }
      ]
    },
    {
      "cell_type": "code",
      "source": [
        "df.drop('ID',axis=1, inplace= True)"
      ],
      "metadata": {
        "id": "_10Cjkg6DSeT"
      },
      "execution_count": 222,
      "outputs": []
    },
    {
      "cell_type": "code",
      "source": [
        "df.head()"
      ],
      "metadata": {
        "colab": {
          "base_uri": "https://localhost:8080/",
          "height": 317
        },
        "id": "f26Mz5b_DV5T",
        "outputId": "15a3af66-3d65-4f32-865a-27d7ec75af3a"
      },
      "execution_count": 223,
      "outputs": [
        {
          "output_type": "execute_result",
          "data": {
            "text/plain": [
              "  Diagnosis  M-Radius  SE-Radius  WL-Radius  M-Texture  SE-Texture  \\\n",
              "0         M     17.99      10.38     122.80     1001.0     0.11840   \n",
              "1         M     20.57      17.77     132.90     1326.0     0.08474   \n",
              "2         M     19.69      21.25     130.00     1203.0     0.10960   \n",
              "3         M     11.42      20.38      77.58      386.1     0.14250   \n",
              "4         M     20.29      14.34     135.10     1297.0     0.10030   \n",
              "\n",
              "   WL-Texture  M-Perimeter  SE-Perimeter  WL-Perimeter  ...  WL-Concavity  \\\n",
              "0     0.27760       0.3001       0.14710        0.2419  ...         25.38   \n",
              "1     0.07864       0.0869       0.07017        0.1812  ...         24.99   \n",
              "2     0.15990       0.1974       0.12790        0.2069  ...         23.57   \n",
              "3     0.28390       0.2414       0.10520        0.2597  ...         14.91   \n",
              "4     0.13280       0.1980       0.10430        0.1809  ...         22.54   \n",
              "\n",
              "   M-Concave_P  SE-Concave_P  WL-Concave_P  M-Symmetry  SE-Symmetry  \\\n",
              "0        17.33        184.60        2019.0      0.1622       0.6656   \n",
              "1        23.41        158.80        1956.0      0.1238       0.1866   \n",
              "2        25.53        152.50        1709.0      0.1444       0.4245   \n",
              "3        26.50         98.87         567.7      0.2098       0.8663   \n",
              "4        16.67        152.20        1575.0      0.1374       0.2050   \n",
              "\n",
              "   WL-Symmetry  M-Fractal_D  SE-Fractal_D  WL-Fractal_D  \n",
              "0       0.7119       0.2654        0.4601       0.11890  \n",
              "1       0.2416       0.1860        0.2750       0.08902  \n",
              "2       0.4504       0.2430        0.3613       0.08758  \n",
              "3       0.6869       0.2575        0.6638       0.17300  \n",
              "4       0.4000       0.1625        0.2364       0.07678  \n",
              "\n",
              "[5 rows x 31 columns]"
            ],
            "text/html": [
              "\n",
              "  <div id=\"df-9012c298-72dd-497a-8e1a-df3d5bf17101\">\n",
              "    <div class=\"colab-df-container\">\n",
              "      <div>\n",
              "<style scoped>\n",
              "    .dataframe tbody tr th:only-of-type {\n",
              "        vertical-align: middle;\n",
              "    }\n",
              "\n",
              "    .dataframe tbody tr th {\n",
              "        vertical-align: top;\n",
              "    }\n",
              "\n",
              "    .dataframe thead th {\n",
              "        text-align: right;\n",
              "    }\n",
              "</style>\n",
              "<table border=\"1\" class=\"dataframe\">\n",
              "  <thead>\n",
              "    <tr style=\"text-align: right;\">\n",
              "      <th></th>\n",
              "      <th>Diagnosis</th>\n",
              "      <th>M-Radius</th>\n",
              "      <th>SE-Radius</th>\n",
              "      <th>WL-Radius</th>\n",
              "      <th>M-Texture</th>\n",
              "      <th>SE-Texture</th>\n",
              "      <th>WL-Texture</th>\n",
              "      <th>M-Perimeter</th>\n",
              "      <th>SE-Perimeter</th>\n",
              "      <th>WL-Perimeter</th>\n",
              "      <th>...</th>\n",
              "      <th>WL-Concavity</th>\n",
              "      <th>M-Concave_P</th>\n",
              "      <th>SE-Concave_P</th>\n",
              "      <th>WL-Concave_P</th>\n",
              "      <th>M-Symmetry</th>\n",
              "      <th>SE-Symmetry</th>\n",
              "      <th>WL-Symmetry</th>\n",
              "      <th>M-Fractal_D</th>\n",
              "      <th>SE-Fractal_D</th>\n",
              "      <th>WL-Fractal_D</th>\n",
              "    </tr>\n",
              "  </thead>\n",
              "  <tbody>\n",
              "    <tr>\n",
              "      <th>0</th>\n",
              "      <td>M</td>\n",
              "      <td>17.99</td>\n",
              "      <td>10.38</td>\n",
              "      <td>122.80</td>\n",
              "      <td>1001.0</td>\n",
              "      <td>0.11840</td>\n",
              "      <td>0.27760</td>\n",
              "      <td>0.3001</td>\n",
              "      <td>0.14710</td>\n",
              "      <td>0.2419</td>\n",
              "      <td>...</td>\n",
              "      <td>25.38</td>\n",
              "      <td>17.33</td>\n",
              "      <td>184.60</td>\n",
              "      <td>2019.0</td>\n",
              "      <td>0.1622</td>\n",
              "      <td>0.6656</td>\n",
              "      <td>0.7119</td>\n",
              "      <td>0.2654</td>\n",
              "      <td>0.4601</td>\n",
              "      <td>0.11890</td>\n",
              "    </tr>\n",
              "    <tr>\n",
              "      <th>1</th>\n",
              "      <td>M</td>\n",
              "      <td>20.57</td>\n",
              "      <td>17.77</td>\n",
              "      <td>132.90</td>\n",
              "      <td>1326.0</td>\n",
              "      <td>0.08474</td>\n",
              "      <td>0.07864</td>\n",
              "      <td>0.0869</td>\n",
              "      <td>0.07017</td>\n",
              "      <td>0.1812</td>\n",
              "      <td>...</td>\n",
              "      <td>24.99</td>\n",
              "      <td>23.41</td>\n",
              "      <td>158.80</td>\n",
              "      <td>1956.0</td>\n",
              "      <td>0.1238</td>\n",
              "      <td>0.1866</td>\n",
              "      <td>0.2416</td>\n",
              "      <td>0.1860</td>\n",
              "      <td>0.2750</td>\n",
              "      <td>0.08902</td>\n",
              "    </tr>\n",
              "    <tr>\n",
              "      <th>2</th>\n",
              "      <td>M</td>\n",
              "      <td>19.69</td>\n",
              "      <td>21.25</td>\n",
              "      <td>130.00</td>\n",
              "      <td>1203.0</td>\n",
              "      <td>0.10960</td>\n",
              "      <td>0.15990</td>\n",
              "      <td>0.1974</td>\n",
              "      <td>0.12790</td>\n",
              "      <td>0.2069</td>\n",
              "      <td>...</td>\n",
              "      <td>23.57</td>\n",
              "      <td>25.53</td>\n",
              "      <td>152.50</td>\n",
              "      <td>1709.0</td>\n",
              "      <td>0.1444</td>\n",
              "      <td>0.4245</td>\n",
              "      <td>0.4504</td>\n",
              "      <td>0.2430</td>\n",
              "      <td>0.3613</td>\n",
              "      <td>0.08758</td>\n",
              "    </tr>\n",
              "    <tr>\n",
              "      <th>3</th>\n",
              "      <td>M</td>\n",
              "      <td>11.42</td>\n",
              "      <td>20.38</td>\n",
              "      <td>77.58</td>\n",
              "      <td>386.1</td>\n",
              "      <td>0.14250</td>\n",
              "      <td>0.28390</td>\n",
              "      <td>0.2414</td>\n",
              "      <td>0.10520</td>\n",
              "      <td>0.2597</td>\n",
              "      <td>...</td>\n",
              "      <td>14.91</td>\n",
              "      <td>26.50</td>\n",
              "      <td>98.87</td>\n",
              "      <td>567.7</td>\n",
              "      <td>0.2098</td>\n",
              "      <td>0.8663</td>\n",
              "      <td>0.6869</td>\n",
              "      <td>0.2575</td>\n",
              "      <td>0.6638</td>\n",
              "      <td>0.17300</td>\n",
              "    </tr>\n",
              "    <tr>\n",
              "      <th>4</th>\n",
              "      <td>M</td>\n",
              "      <td>20.29</td>\n",
              "      <td>14.34</td>\n",
              "      <td>135.10</td>\n",
              "      <td>1297.0</td>\n",
              "      <td>0.10030</td>\n",
              "      <td>0.13280</td>\n",
              "      <td>0.1980</td>\n",
              "      <td>0.10430</td>\n",
              "      <td>0.1809</td>\n",
              "      <td>...</td>\n",
              "      <td>22.54</td>\n",
              "      <td>16.67</td>\n",
              "      <td>152.20</td>\n",
              "      <td>1575.0</td>\n",
              "      <td>0.1374</td>\n",
              "      <td>0.2050</td>\n",
              "      <td>0.4000</td>\n",
              "      <td>0.1625</td>\n",
              "      <td>0.2364</td>\n",
              "      <td>0.07678</td>\n",
              "    </tr>\n",
              "  </tbody>\n",
              "</table>\n",
              "<p>5 rows × 31 columns</p>\n",
              "</div>\n",
              "      <button class=\"colab-df-convert\" onclick=\"convertToInteractive('df-9012c298-72dd-497a-8e1a-df3d5bf17101')\"\n",
              "              title=\"Convert this dataframe to an interactive table.\"\n",
              "              style=\"display:none;\">\n",
              "        \n",
              "  <svg xmlns=\"http://www.w3.org/2000/svg\" height=\"24px\"viewBox=\"0 0 24 24\"\n",
              "       width=\"24px\">\n",
              "    <path d=\"M0 0h24v24H0V0z\" fill=\"none\"/>\n",
              "    <path d=\"M18.56 5.44l.94 2.06.94-2.06 2.06-.94-2.06-.94-.94-2.06-.94 2.06-2.06.94zm-11 1L8.5 8.5l.94-2.06 2.06-.94-2.06-.94L8.5 2.5l-.94 2.06-2.06.94zm10 10l.94 2.06.94-2.06 2.06-.94-2.06-.94-.94-2.06-.94 2.06-2.06.94z\"/><path d=\"M17.41 7.96l-1.37-1.37c-.4-.4-.92-.59-1.43-.59-.52 0-1.04.2-1.43.59L10.3 9.45l-7.72 7.72c-.78.78-.78 2.05 0 2.83L4 21.41c.39.39.9.59 1.41.59.51 0 1.02-.2 1.41-.59l7.78-7.78 2.81-2.81c.8-.78.8-2.07 0-2.86zM5.41 20L4 18.59l7.72-7.72 1.47 1.35L5.41 20z\"/>\n",
              "  </svg>\n",
              "      </button>\n",
              "      \n",
              "  <style>\n",
              "    .colab-df-container {\n",
              "      display:flex;\n",
              "      flex-wrap:wrap;\n",
              "      gap: 12px;\n",
              "    }\n",
              "\n",
              "    .colab-df-convert {\n",
              "      background-color: #E8F0FE;\n",
              "      border: none;\n",
              "      border-radius: 50%;\n",
              "      cursor: pointer;\n",
              "      display: none;\n",
              "      fill: #1967D2;\n",
              "      height: 32px;\n",
              "      padding: 0 0 0 0;\n",
              "      width: 32px;\n",
              "    }\n",
              "\n",
              "    .colab-df-convert:hover {\n",
              "      background-color: #E2EBFA;\n",
              "      box-shadow: 0px 1px 2px rgba(60, 64, 67, 0.3), 0px 1px 3px 1px rgba(60, 64, 67, 0.15);\n",
              "      fill: #174EA6;\n",
              "    }\n",
              "\n",
              "    [theme=dark] .colab-df-convert {\n",
              "      background-color: #3B4455;\n",
              "      fill: #D2E3FC;\n",
              "    }\n",
              "\n",
              "    [theme=dark] .colab-df-convert:hover {\n",
              "      background-color: #434B5C;\n",
              "      box-shadow: 0px 1px 3px 1px rgba(0, 0, 0, 0.15);\n",
              "      filter: drop-shadow(0px 1px 2px rgba(0, 0, 0, 0.3));\n",
              "      fill: #FFFFFF;\n",
              "    }\n",
              "  </style>\n",
              "\n",
              "      <script>\n",
              "        const buttonEl =\n",
              "          document.querySelector('#df-9012c298-72dd-497a-8e1a-df3d5bf17101 button.colab-df-convert');\n",
              "        buttonEl.style.display =\n",
              "          google.colab.kernel.accessAllowed ? 'block' : 'none';\n",
              "\n",
              "        async function convertToInteractive(key) {\n",
              "          const element = document.querySelector('#df-9012c298-72dd-497a-8e1a-df3d5bf17101');\n",
              "          const dataTable =\n",
              "            await google.colab.kernel.invokeFunction('convertToInteractive',\n",
              "                                                     [key], {});\n",
              "          if (!dataTable) return;\n",
              "\n",
              "          const docLinkHtml = 'Like what you see? Visit the ' +\n",
              "            '<a target=\"_blank\" href=https://colab.research.google.com/notebooks/data_table.ipynb>data table notebook</a>'\n",
              "            + ' to learn more about interactive tables.';\n",
              "          element.innerHTML = '';\n",
              "          dataTable['output_type'] = 'display_data';\n",
              "          await google.colab.output.renderOutput(dataTable, element);\n",
              "          const docLink = document.createElement('div');\n",
              "          docLink.innerHTML = docLinkHtml;\n",
              "          element.appendChild(docLink);\n",
              "        }\n",
              "      </script>\n",
              "    </div>\n",
              "  </div>\n",
              "  "
            ]
          },
          "metadata": {},
          "execution_count": 223
        }
      ]
    },
    {
      "cell_type": "markdown",
      "source": [
        "### Data Processing"
      ],
      "metadata": {
        "id": "F0X7yp5tGDVh"
      }
    },
    {
      "cell_type": "code",
      "source": [
        "df['Diagnosis'].replace(['M', 'B'],[1, 0], inplace=True)\n",
        "y = df['Diagnosis'].values\n",
        "x = df.drop('Diagnosis', axis=1).values"
      ],
      "metadata": {
        "id": "RUawoyyIESPF"
      },
      "execution_count": 224,
      "outputs": []
    },
    {
      "cell_type": "code",
      "source": [
        "x_train, x_test, y_train, y_test = train_test_split(x, y, test_size=20, random_state=4)\n",
        "N = y_train.size"
      ],
      "metadata": {
        "id": "UOXtLMomHaib"
      },
      "execution_count": 225,
      "outputs": []
    },
    {
      "cell_type": "code",
      "source": [
        "N"
      ],
      "metadata": {
        "colab": {
          "base_uri": "https://localhost:8080/",
          "height": 0
        },
        "id": "E-3JFqadJpD8",
        "outputId": "cd6a7c72-2c29-4c8c-98c5-775dca31116d"
      },
      "execution_count": 226,
      "outputs": [
        {
          "output_type": "execute_result",
          "data": {
            "text/plain": [
              "549"
            ]
          },
          "metadata": {},
          "execution_count": 226
        }
      ]
    },
    {
      "cell_type": "markdown",
      "source": [
        "###Helper functions\n"
      ],
      "metadata": {
        "id": "fhzVJvwIGiiB"
      }
    },
    {
      "cell_type": "code",
      "source": [
        "def sigmoid(x):\n",
        "    return 1 / (1 + np.exp(-x))\n",
        "\n",
        "def dsigmoid(x):\n",
        "    return x*(1-x)\n",
        "\n",
        "def mean_squared_error(predictions, labels):\n",
        "    N = labels.size\n",
        "    mse = ((predictions - labels)**2).sum() / (2*N)\n",
        "    return mse\n",
        "\n",
        "def accuracy(predictions, labels):\n",
        "    return  accuracy_score(labels, predictions > 0.5) \n",
        "\n",
        "def ReLU(x):\n",
        "  return np.maximum(0,x)\n",
        "\n",
        "def binary_cross_entropy(predictions, labels):\n",
        "    return -(y * np.log(predictions) + (1 - y) * np.log(1 - predictions)).mean()"
      ],
      "metadata": {
        "id": "8sdhJHt9GSFn"
      },
      "execution_count": 227,
      "outputs": []
    },
    {
      "cell_type": "markdown",
      "source": [
        "###Training attempt"
      ],
      "metadata": {
        "id": "_F2-rRPvGe7k"
      }
    },
    {
      "cell_type": "code",
      "source": [
        "# hyperparameters\n",
        "learning_rate = 0.1\n",
        "epochs = 1000\n",
        "\n",
        "n_input = 30\n",
        "n_hidden = 7\n",
        "n_hidden2 = 2\n",
        "n_output = 1\n",
        "\n",
        "np.random.seed(10)\n",
        "weights_0 = np.random.normal(scale=0.5, size=(n_input, n_hidden))   # (30, 7)\n",
        "weights_1 = np.random.normal(scale=0.5, size=(n_hidden, n_hidden2))  # (7, 4)\n",
        "weights_2 = np.random.normal(scale=0.5, size=(n_hidden2, n_output))  # (4, 1)\n",
        "bias_0 = np.random.normal(scale=0.5, size=(1, n_hidden))   # (1, 7)\n",
        "bias_1 = np.random.normal(scale=0.5, size=(1, n_hidden2))  # (1, 4)\n",
        "bias_2 = np.random.normal(scale=0.5, size=(1, n_output))  # (1, 1)\n",
        "\n",
        "# training the neural net\n",
        "monitoring = {\"mean_squared_error\": [], \"accuracy\": [], \"binary_cross_entropy\": []}\n",
        "for epoch in range(epochs):\n",
        "    \n",
        "    # feedforward\n",
        "    hidden_layer_inputs1 = np.dot(x_train, weights_0) + bias_0\n",
        "    hidden_layer_outputs1 = sigmoid(hidden_layer_inputs1)\n",
        "\n",
        "    hidden_layer_inputs2 = np.dot(hidden_layer_inputs1, weights_1) + bias_1\n",
        "    hidden_layer_outputs2 = np.tanh(hidden_layer_inputs2)\n",
        "\n",
        "    output_layer_inputs = np.dot(hidden_layer_outputs2, weights_2) + bias_2\n",
        "    output_layer_outputs = sigmoid(output_layer_inputs)\n",
        "\n",
        "    # monitor training process\n",
        "    mse = mean_squared_error(output_layer_outputs, y_train)\n",
        "    acc = accuracy(output_layer_outputs, y_train)\n",
        "    bce = binary_cross_entropy(output_layer_outputs, y_train)\n",
        "    \n",
        "    monitoring[\"mean_squared_error\"].append(mse)\n",
        "    monitoring[\"accuracy\"].append(acc)\n",
        "    monitoring[\"binary_cross_entropy\"].append(bce)\n",
        "    \n",
        "    # backpropagation\n",
        "    output_layer_error = output_layer_outputs - y_train.reshape(N,1)\n",
        "    output_layer_delta = output_layer_error * ReLU(output_layer_outputs)\n",
        "    \n",
        "    hidden_layer_error2 = np.dot(output_layer_delta, weights_2.T)\n",
        "    hidden_layer_delta2 = hidden_layer_error2 * dsigmoid(hidden_layer_outputs2)\n",
        "\n",
        "    hidden_layer_error = np.dot(hidden_layer_error2, weights_1.T)\n",
        "    hidden_layer_delta = hidden_layer_error * dsigmoid(hidden_layer_outputs1)\n",
        "\n",
        "    \n",
        "    # weight and bias updates\n",
        "    weights_2_update = np.dot(hidden_layer_outputs2.T, output_layer_delta) \n",
        "    weights_1_update = np.dot(hidden_layer_outputs1.T, hidden_layer_delta2) \n",
        "    weights_0_update = np.dot(x_train.T, hidden_layer_delta) \n",
        "    bias_2_update = np.sum(output_layer_delta, axis = 0, keepdims = True) \n",
        "    bias_1_update = np.sum(hidden_layer_delta2, axis = 0, keepdims = True) \n",
        "    bias_0_update = np.sum(hidden_layer_delta, axis = 0, keepdims = True) \n",
        "\n",
        "    bias_2 = bias_2_update * learning_rate / N\n",
        "    bias_1 = bias_1_update * learning_rate / N\n",
        "    bias_0 = bias_0_update * learning_rate / N\n",
        "    weights_2 = weights_2 - learning_rate * weights_2_update / N\n",
        "    weights_1 = weights_1 - learning_rate * weights_1_update / N\n",
        "    weights_0 = weights_0 - learning_rate * weights_0_update / N\n",
        "\n",
        "monitoring_df = pd.DataFrame(monitoring)"
      ],
      "metadata": {
        "id": "9c4ZIkdTGVkP"
      },
      "execution_count": null,
      "outputs": []
    },
    {
      "cell_type": "code",
      "source": [
        "print(\"Mean Squared Error   : \",mse,\"\\nAccuracy\\t     : \",acc, \"\\nBinary Cross Entropy : \", bce)"
      ],
      "metadata": {
        "colab": {
          "base_uri": "https://localhost:8080/",
          "height": 0
        },
        "id": "dLsOQ5qZJR5q",
        "outputId": "8a721b6b-c0f0-4513-babc-0c86d8875789"
      },
      "execution_count": 233,
      "outputs": [
        {
          "output_type": "stream",
          "name": "stdout",
          "text": [
            "Mean Squared Error   :  64.5974499089253 \n",
            "Accuracy\t     :  0.6211293260473588 \n",
            "Binary Cross Entropy :  0.6604005201171813\n"
          ]
        }
      ]
    },
    {
      "cell_type": "code",
      "source": [
        "fig, axes = plt.subplots(1, 3, figsize=(15,5))\n",
        "\n",
        "monitoring_df.mean_squared_error.plot(ax=axes[0], title=\"Mean Squared Error\")\n",
        "monitoring_df.accuracy.plot(ax=axes[1], title=\"Accuracy\");\n",
        "monitoring_df.binary_cross_entropy.plot(ax=axes[2], title=\"Binary Cross Entropy\");"
      ],
      "metadata": {
        "colab": {
          "base_uri": "https://localhost:8080/",
          "height": 336
        },
        "id": "gqyhU4AcGXmM",
        "outputId": "5bb4d717-2a31-4b9e-8db8-8660a8b7af59"
      },
      "execution_count": 234,
      "outputs": [
        {
          "output_type": "display_data",
          "data": {
            "text/plain": [
              "<Figure size 1080x360 with 3 Axes>"
            ],
            "image/png": "[encoded data removed]"
          },
          "metadata": {
            "needs_background": "light"
          }
        }
      ]
    }
  ]
}